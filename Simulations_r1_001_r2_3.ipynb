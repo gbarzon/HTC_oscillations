{
 "cells": [
  {
   "cell_type": "code",
   "execution_count": 1,
   "id": "498ab303",
   "metadata": {
    "ExecuteTime": {
     "end_time": "2022-04-22T14:24:10.863910Z",
     "start_time": "2022-04-22T14:24:09.642748Z"
    }
   },
   "outputs": [],
   "source": [
    "import numpy as np\n",
    "import matplotlib.pyplot as plt\n",
    "\n",
    "from matplotlib import cm\n",
    "\n",
    "import igraph as ig\n",
    "import networkx as nx\n",
    "\n",
    "#from matplotlib import rc, rcParams\n",
    "from matplotlib.colors import LogNorm\n",
    "\n",
    "from scipy.integrate import odeint\n",
    "from HTC_utils import *\n",
    "\n",
    "from scipy.stats import truncnorm"
   ]
  },
  {
   "cell_type": "markdown",
   "id": "e5ac4dfc",
   "metadata": {},
   "source": [
    "# Varying connectivity"
   ]
  },
  {
   "cell_type": "code",
   "execution_count": 2,
   "id": "1bdfe332",
   "metadata": {
    "ExecuteTime": {
     "end_time": "2022-04-22T14:24:12.794337Z",
     "start_time": "2022-04-22T14:24:12.790485Z"
    }
   },
   "outputs": [],
   "source": [
    "folder = 'data_r2_0.3/'"
   ]
  },
  {
   "cell_type": "code",
   "execution_count": null,
   "id": "79cc2b04",
   "metadata": {
    "ExecuteTime": {
     "start_time": "2022-04-22T15:18:40.377Z"
    }
   },
   "outputs": [],
   "source": [
    "r1 = 0.001\n",
    "r2 = 0.1\n",
    "\n",
    "Tminus = r1 * r2 / (r1 + r2 + r1*r2)\n",
    "Tplus = r2 / (2*r2 +1)\n",
    "\n",
    "xplus = Tplus\n",
    "yplus = Tplus / r2\n",
    "\n",
    "xminus = Tminus\n",
    "yminus = Tminus / r2\n",
    "\n",
    "print(Tminus)\n",
    "print(Tplus)"
   ]
  },
  {
   "cell_type": "code",
   "execution_count": null,
   "id": "7d83962e",
   "metadata": {
    "ExecuteTime": {
     "end_time": "2022-04-15T09:00:04.957317Z",
     "start_time": "2022-04-15T08:57:23.504087Z"
    }
   },
   "outputs": [],
   "source": [
    "ps = [0.01, 0.05, 0.1, 0.2, 0.4, 0.6,]\n",
    "#ps = [0.1, 0.3, 0.6]\n",
    "Ts = [0.5*Tminus, Tminus + 0.5*(Tplus-Tminus), 2.*Tplus]\n",
    "#Ts = [0.5*Tminus, Tminus + 0.3*(Tplus-Tminus), Tminus + 0.5*(Tplus-Tminus), Tminus + 0.7*(Tplus-Tminus), 2.*Tplus]\n",
    "titles = [r'$T<T_-$', r'$T_-<T<T_+$', r'$T>T_+$']\n",
    "\n",
    "dt = 0.01\n",
    "steps = int(5e3)\n",
    "N = int(1e3)\n",
    "\n",
    "res = []\n",
    "\n",
    "for p in ps:\n",
    "    tmp_res = []\n",
    "    \n",
    "    # Generate graphs\n",
    "    print('[*] Generating topology for p={:.2f}'.format(p))\n",
    "    top = ig.Graph.Erdos_Renyi(n=N, p=p).get_adjacency_sparse().toarray()\n",
    "    # Homeostatic normalization\n",
    "    top = normalize(top)\n",
    "    \n",
    "    for T in Ts:\n",
    "        print('[-] T='+str(T))\n",
    "        # Run model\n",
    "        x, y = run_htc_single(None, xplus, yplus, T, r1, r2, dt, steps, N=N, runs=30)\n",
    "        tmp_res.append(x)\n",
    "        name = 'traj_N_{}_dt_{}_p_{}_T_{}.npy'.format(N,np.round(dt,3),np.round(p,2),np.round(np.log10(T),2))\n",
    "        np.save(folder+name, x)\n",
    "    res.append(tmp_res)"
   ]
  },
  {
   "cell_type": "code",
   "execution_count": null,
   "id": "da733065",
   "metadata": {
    "ExecuteTime": {
     "end_time": "2022-04-15T09:00:20.625034Z",
     "start_time": "2022-04-15T09:00:08.077409Z"
    }
   },
   "outputs": [],
   "source": [
    "plt.figure(figsize=(15,15))\n",
    "\n",
    "for i, p in enumerate(ps):\n",
    "    for j, T in enumerate(Ts):\n",
    "        plt.subplot(len(ps),len(Ts),i*len(Ts)+j+1)\n",
    "        \n",
    "        for traj in res[i][j]:\n",
    "            plt.plot(np.arange(steps)*dt, traj, c='k', alpha=0.6)\n",
    "        plt.axhline(xplus, ls='--', c='blue', label=r'$x_+$', lw=3)\n",
    "        plt.axhline(xminus, ls='--', c='r', label=r'$x_-$', lw=3)\n",
    "        plt.ylim([0,.35])\n",
    "        \n",
    "        if i==0:\n",
    "            plt.title(titles[j])\n",
    "        \n",
    "        if j%len(Ts)==0:\n",
    "            plt.ylabel('x[t], p='+str(p))\n",
    "        if i==len(ps)-1:\n",
    "            plt.xlabel('t')\n",
    "plt.show()"
   ]
  },
  {
   "cell_type": "code",
   "execution_count": 5,
   "id": "f6cb5483",
   "metadata": {
    "ExecuteTime": {
     "end_time": "2022-04-20T11:46:23.616682Z",
     "start_time": "2022-04-20T11:22:18.949885Z"
    }
   },
   "outputs": [
    {
     "name": "stdout",
     "output_type": "stream",
     "text": [
      "End simulating activity\n",
      "Total computation time: 291.59s\n"
     ]
    }
   ],
   "source": [
    "ps = [0.05, 0.1, 0.2, 0.4, 0.6]\n",
    "dt = 0.01\n",
    "steps = int(5e3)\n",
    "N = int(1e3)\n",
    "\n",
    "res_hist = []\n",
    "\n",
    "for p in ps:    \n",
    "    # Generate graphs\n",
    "    print('[*] Generating topology for p={:.1f}'.format(p))\n",
    "    top = ig.Graph.Erdos_Renyi(n=N, p=p).get_adjacency_sparse().toarray()\n",
    "    \n",
    "    # Homeostatic normalization\n",
    "    top = normalize(top)\n",
    "    \n",
    "    tmp = run_htc_hysteresis(top, dt, steps, eq_steps=int(5e3), N=N, r1=r1, r2=r2, Tmin=xminus/5, Tmax=5*Tplus, Tdiv_log=True, nT=60, runs=1, display=True)\n",
    "    name = 'hist_N_{}_dt_{}_p_{}.npy'.format(N,np.round(dt,3),np.round(p,2))\n",
    "    np.save(folder+name, tmp)\n",
    "    res_hist.append(tmp)"
   ]
  },
  {
   "cell_type": "code",
   "execution_count": null,
   "id": "e3d15ab4",
   "metadata": {
    "ExecuteTime": {
     "end_time": "2022-04-15T11:13:09.076602Z",
     "start_time": "2022-04-15T11:13:08.360744Z"
    }
   },
   "outputs": [],
   "source": [
    "plt.figure(figsize=(8,5))\n",
    "\n",
    "for i, res in enumerate(res_hist):\n",
    "    plt.plot(res[0], res[1], '-o', zorder=50-i, label=ps[i], alpha=0.9)\n",
    "\n",
    "plt.xscale('log')\n",
    "plt.xlabel('t')\n",
    "plt.ylabel('x[t]')\n",
    "\n",
    "plt.axhline(xplus, ls='--', c='blue', lw=3, zorder=1)\n",
    "plt.axhline(xminus, ls='--', c='r', lw=3, zorder=1)\n",
    "\n",
    "plt.axvline(xplus, lw=3, zorder=1, c='k', alpha=0.5)\n",
    "plt.axvline(xminus, lw=3, zorder=1, c='k', alpha=0.5)\n",
    "\n",
    "plt.legend()\n",
    "plt.show()"
   ]
  },
  {
   "cell_type": "code",
   "execution_count": null,
   "id": "2d6eeec0",
   "metadata": {
    "ExecuteTime": {
     "end_time": "2022-04-15T11:23:01.588546Z",
     "start_time": "2022-04-15T11:19:38.725238Z"
    }
   },
   "outputs": [],
   "source": [
    "ps = [0.1]\n",
    "ks = np.arange(0,1+0.1,0.1)\n",
    "#Ts = [Tminus + 0.5*(Tplus-Tminus)]\n",
    "Ts = Tminus + ks*(Tplus-Tminus)\n",
    "#Ts = [0.5*Tminus, Tminus + 0.3*(Tplus-Tminus), Tminus + 0.5*(Tplus-Tminus), Tminus + 0.7*(Tplus-Tminus), 2.*Tplus]\n",
    "titles = [r'$T<T_-$', r'$T_-<T<T_+$', r'$T>T_+$']\n",
    "\n",
    "dt = 0.01\n",
    "steps = int(5e4)\n",
    "N = int(1e3)\n",
    "\n",
    "res_1 = []\n",
    "\n",
    "for p in ps:\n",
    "    tmp_res = []\n",
    "    \n",
    "    # Generate graphs\n",
    "    print('[*] Generating topology for p={:.1f}'.format(p))\n",
    "    top = ig.Graph.Erdos_Renyi(n=N, p=p).get_adjacency_sparse().toarray()\n",
    "    \n",
    "    # Homeostatic normalization\n",
    "    top = normalize(top)\n",
    "    \n",
    "    for T in Ts:\n",
    "        print('[-] T='+str(T))\n",
    "        # Run model\n",
    "        x, y = run_htc_single(None, xplus, yplus, T, r1, r2, dt, steps, N=N, runs=30)\n",
    "        tmp_res.append(x)\n",
    "        \n",
    "        name = 'traj_N_{}_dt_{}_p_{}_T_{}.npy'.format(N,np.round(dt,3),np.round(p,2),np.round(np.log10(T),2))\n",
    "        np.save(folder+name, x)\n",
    "    \n",
    "    res_1.append(tmp_res)"
   ]
  },
  {
   "cell_type": "code",
   "execution_count": null,
   "id": "bef3fac0",
   "metadata": {
    "ExecuteTime": {
     "end_time": "2022-04-15T11:23:07.585852Z",
     "start_time": "2022-04-15T11:23:02.184415Z"
    }
   },
   "outputs": [],
   "source": [
    "plt.figure(figsize=(20,15))\n",
    "\n",
    "for j, T in enumerate(Ts):\n",
    "    plt.subplot(4,len(Ts)//3,j+1)\n",
    "        \n",
    "    for traj in res_1[0][j]:\n",
    "        plt.plot(np.arange(steps)*dt, traj, c='k', alpha=0.6)\n",
    "    plt.axhline(xplus, ls='--', c='blue', label=r'$x_+$', lw=3)\n",
    "    plt.axhline(xminus, ls='--', c='r', label=r'$x_-$', lw=3)\n",
    "    plt.ylim([0,.35])\n",
    "        \n",
    "    if j==0:\n",
    "        plt.ylabel('x[t]')\n",
    "    plt.xlabel('t')\n",
    "    plt.title(r'$T=T_- + $'+str(np.round(ks[j],1))+r'$(T_+ - T_-)$')\n",
    "\n",
    "plt.tight_layout()\n",
    "plt.show()"
   ]
  },
  {
   "cell_type": "markdown",
   "id": "e66dde47",
   "metadata": {},
   "source": [
    "# Change weights distributions\n",
    "* uniform\n",
    "* power law/exponential (see other works)\n",
    "* truncated normal\n",
    "* power law"
   ]
  },
  {
   "cell_type": "code",
   "execution_count": null,
   "id": "37ff04a1",
   "metadata": {
    "ExecuteTime": {
     "end_time": "2022-04-15T11:33:03.445253Z",
     "start_time": "2022-04-15T11:33:03.430605Z"
    }
   },
   "outputs": [],
   "source": [
    "def rnd_powlaw(a, b, g, size):\n",
    "    \"\"\"Power-law gen for pdf(x)\\propto x^{g-1} for a<=x<=b\"\"\"\n",
    "    r = np.random.random(size=size)\n",
    "    ag, bg = a**g, b**g\n",
    "    \n",
    "    return (ag + (bg - ag)*r)**(1./g)\n",
    "\n",
    "def generate_random(pdf, N, lmbd=None):\n",
    "    if pdf == 'uniform':\n",
    "        mat = np.random.uniform(size=(N,N))\n",
    "    elif pdf == 'exp':\n",
    "        if lmbd is None:\n",
    "            lmbd = 12.5\n",
    "        mat = np.random.exponential(scale=1/lmbd, size=(N,N))\n",
    "    elif pdf == 'normal':\n",
    "        mat = truncnorm.rvs(0, 1, size=(N,N))\n",
    "    elif pdf == 'powlaw':\n",
    "        if lmbd is None:\n",
    "            lmbd = -0.5\n",
    "        mat = rnd_powlaw(1e-5, 1, lmbd, size=(N,N))\n",
    "    \n",
    "    # Symmetrize\n",
    "    mat = np.triu(mat, k=1)\n",
    "    mat += mat.T\n",
    "    \n",
    "    return mat"
   ]
  },
  {
   "cell_type": "code",
   "execution_count": null,
   "id": "51e0b773",
   "metadata": {
    "ExecuteTime": {
     "end_time": "2022-04-15T11:33:04.244066Z",
     "start_time": "2022-04-15T11:33:04.153307Z"
    }
   },
   "outputs": [],
   "source": [
    "tt = generate_random('powlaw', N, lmbd=None)"
   ]
  },
  {
   "cell_type": "code",
   "execution_count": null,
   "id": "3c0fb636",
   "metadata": {
    "ExecuteTime": {
     "end_time": "2022-04-15T11:33:06.142608Z",
     "start_time": "2022-04-15T11:33:04.828542Z"
    }
   },
   "outputs": [],
   "source": [
    "ww = tt[np.triu_indices(N,1)]\n",
    "ww = ww[ww>0]\n",
    "\n",
    "plt.hist(ww, bins=np.logspace(-5,0, 400))\n",
    "plt.xscale('log')\n",
    "plt.yscale('log')\n",
    "plt.show()"
   ]
  },
  {
   "cell_type": "code",
   "execution_count": null,
   "id": "c17c3160",
   "metadata": {
    "ExecuteTime": {
     "end_time": "2022-04-15T12:51:42.796283Z",
     "start_time": "2022-04-15T12:50:24.273960Z"
    },
    "scrolled": true
   },
   "outputs": [],
   "source": [
    "pdfs = ['uniform', 'exp', 'normal', 'powlaw']\n",
    "#pdfs = ['uniform']\n",
    "\n",
    "dt = 0.01\n",
    "steps = int(5e3)\n",
    "eq_steps = int(5e3)\n",
    "N = int(1e3)\n",
    "\n",
    "res_2 = []\n",
    "\n",
    "for pdf in pdfs:\n",
    "    \n",
    "    # Generate graphs\n",
    "    print('[*] Generating topology for pdf:'+pdf)\n",
    "    top = generate_random(pdf, N)\n",
    "    # Homeostatic normalization\n",
    "    top = normalize(top)\n",
    "    \n",
    "    # Run model\n",
    "    tmp = run_htc_hysteresis(top, dt, steps, eq_steps=eq_steps, N=N, r1=r1, r2=r2, Tmin=xminus/5, Tmax=5*Tplus, Tdiv_log=True, nT=60, runs=1, display=True)\n",
    "    res_2.append(tmp)\n",
    "    \n",
    "    name = 'hist_N_{}_dt_{}_pdf_{}.npy'.format(N,np.round(dt,3),pdf)\n",
    "    np.save(folder+name, tmp)"
   ]
  },
  {
   "cell_type": "code",
   "execution_count": null,
   "id": "ffc5a89d",
   "metadata": {
    "ExecuteTime": {
     "end_time": "2022-04-15T12:51:42.801902Z",
     "start_time": "2022-04-15T12:50:25.042Z"
    }
   },
   "outputs": [],
   "source": [
    "plt.figure(figsize=(8,5))\n",
    "\n",
    "for i, res in enumerate(res_2):\n",
    "    plt.plot(res[0], res[1], '-o', zorder=2, label=pdfs[i], alpha=0.7)\n",
    "\n",
    "plt.xscale('log')\n",
    "plt.xlabel('t')\n",
    "plt.ylabel('x[t]')\n",
    "\n",
    "plt.axhline(xplus, ls='--', c='blue', lw=3, zorder=1)\n",
    "plt.axhline(xminus, ls='--', c='r', lw=3, zorder=1)\n",
    "\n",
    "plt.axvline(xplus, lw=3, zorder=1, c='k', alpha=0.5)\n",
    "plt.axvline(xminus, lw=3, zorder=1, c='k', alpha=0.5)\n",
    "\n",
    "plt.legend()\n",
    "plt.show()"
   ]
  },
  {
   "cell_type": "code",
   "execution_count": null,
   "id": "90f5cb6d",
   "metadata": {
    "ExecuteTime": {
     "end_time": "2022-04-15T13:04:34.915145Z",
     "start_time": "2022-04-15T12:57:38.335117Z"
    }
   },
   "outputs": [],
   "source": [
    "pdfs = ['uniform', 'exp', 'normal', 'powlaw']\n",
    "Ts = [0.5*Tminus, Tminus + 0.5*(Tplus-Tminus), 2.*Tplus]\n",
    "titles = [r'$T<T_-$', r'$T_-<T<T_+$', r'$T>T_+$']\n",
    "\n",
    "dt = 0.01\n",
    "steps = int(5e3)\n",
    "N = int(1e3)\n",
    "\n",
    "res_3 = []\n",
    "\n",
    "for pdf in pdfs:\n",
    "    tmp_res = []\n",
    "    \n",
    "    # Generate graphs\n",
    "    print('[*] Generating topology for pdf='+ pdf)\n",
    "    top = generate_random(pdf, N)\n",
    "    # Homeostatic normalization\n",
    "    top = normalize(top)\n",
    "    \n",
    "    for T in Ts:\n",
    "        print('[-] T='+str(T))\n",
    "        # Run model\n",
    "        x, y = run_htc_single(top, xplus, yplus, T, r1, r2, dt, steps, N=N, runs=30)\n",
    "        tmp_res.append(x)\n",
    "        \n",
    "        name = 'traj_N_{}_dt_{}_pdf_{}_T_{}.npy'.format(N,np.round(dt,3),pdf,np.round(np.log10(T),2))\n",
    "        np.save(folder+name, x)\n",
    "    res_3.append(tmp_res)"
   ]
  },
  {
   "cell_type": "code",
   "execution_count": null,
   "id": "1cb5843b",
   "metadata": {
    "ExecuteTime": {
     "end_time": "2022-04-15T13:04:37.137938Z",
     "start_time": "2022-04-15T13:04:35.447664Z"
    }
   },
   "outputs": [],
   "source": [
    "plt.figure(figsize=(15,15))\n",
    "\n",
    "for i, pdf in enumerate(pdfs):\n",
    "    for j, T in enumerate(Ts):\n",
    "        plt.subplot(len(pdfs),len(Ts),i*len(Ts)+j+1)\n",
    "        \n",
    "        for traj in res_3[i][j]:\n",
    "            plt.plot(np.arange(steps)*dt, traj, c='k', alpha=0.6)\n",
    "        plt.axhline(xplus, ls='--', c='blue', label=r'$x_+$', lw=3)\n",
    "        plt.axhline(xminus, ls='--', c='r', label=r'$x_-$', lw=3)\n",
    "        plt.ylim([0,.35])\n",
    "        \n",
    "        if j%len(Ts)==0:\n",
    "            plt.ylabel('x[t], pdf='+str(pdfs[i]))\n",
    "        if i==len(pdfs)-1:\n",
    "            plt.xlabel('t')\n",
    "plt.show()"
   ]
  },
  {
   "cell_type": "markdown",
   "id": "1a289d2f",
   "metadata": {
    "ExecuteTime": {
     "end_time": "2022-04-09T14:55:12.311278Z",
     "start_time": "2022-04-09T14:55:12.306920Z"
    }
   },
   "source": [
    "# Change connectivity + weights"
   ]
  },
  {
   "cell_type": "code",
   "execution_count": null,
   "id": "c4a65a7a",
   "metadata": {
    "ExecuteTime": {
     "end_time": "2022-04-09T15:10:36.126811Z",
     "start_time": "2022-04-09T15:04:45.960231Z"
    },
    "scrolled": true
   },
   "outputs": [],
   "source": [
    "pdfs = ['uniform', 'exp', 'normal']\n",
    "ps = [0.1, 0.2, 0.3, 0.4, 0.6, 0.8]\n",
    "\n",
    "Ts = [0.5*Tminus, Tminus + 0.5*(Tplus-Tminus), 2.*Tplus]\n",
    "titles = [r'$T<T_-$', r'$T_-<T<T_+$', r'$T>T_+$']\n",
    "\n",
    "dt = 0.05\n",
    "steps = int(1e3)\n",
    "N = int(1e3)\n",
    "\n",
    "res_3 = []\n",
    "\n",
    "for pdf in pdfs:\n",
    "    tmp_res_1 = []\n",
    "    \n",
    "    for p in ps:\n",
    "        tmp_res_2 = []\n",
    "        \n",
    "        # Generate weights\n",
    "        print('[*] Generating topology for pdf='+ pdf)\n",
    "        weights = generate_random(pdf, N)\n",
    "        \n",
    "        # Generate graphs\n",
    "        print('[*] Generating topology for p='+ str(p))\n",
    "        top = ig.Graph.Erdos_Renyi(n=N, p=p).get_adjacency_sparse().toarray()\n",
    "        \n",
    "        # Mask weights with network\n",
    "        top = weights * top\n",
    "        \n",
    "        # Homeostatic normalization\n",
    "        top = normalize(top)\n",
    "    \n",
    "        for T in Ts:\n",
    "            print('[-] T='+str(T))\n",
    "            # Run model\n",
    "            x, y = run_htc_single(top, xplus, yplus, T, r1, r2, dt, steps, N=N, runs=30)\n",
    "            tmp_res_2.append(x)\n",
    "        tmp_res_1.append(tmp_res_2)\n",
    "    res_3.append(tmp_res_1)"
   ]
  },
  {
   "cell_type": "code",
   "execution_count": null,
   "id": "c4d9af9f",
   "metadata": {
    "ExecuteTime": {
     "end_time": "2022-04-09T15:11:34.711230Z",
     "start_time": "2022-04-09T15:11:32.616635Z"
    }
   },
   "outputs": [],
   "source": [
    "plt.figure(figsize=(15,15))\n",
    "\n",
    "for i, p in enumerate(ps):\n",
    "    for j, T in enumerate(Ts):\n",
    "        plt.subplot(len(ps),len(Ts),i*len(Ts)+j+1)\n",
    "        \n",
    "        for traj in res_3[0][i][j]:\n",
    "            plt.plot(np.arange(steps)*dt, traj, c='k', alpha=0.6)\n",
    "        plt.axhline(xplus, ls='--', c='blue', label=r'$x_+$', lw=3)\n",
    "        plt.axhline(xminus, ls='--', c='r', label=r'$x_-$', lw=3)\n",
    "        plt.ylim([0,.35])\n",
    "        \n",
    "        if i==0:\n",
    "            plt.title(titles[j])\n",
    "        \n",
    "        if j%len(Ts)==0:\n",
    "            plt.ylabel('x[t], p='+str(p))\n",
    "        if i==len(ps)-1:\n",
    "            plt.xlabel('t')\n",
    "plt.show()"
   ]
  },
  {
   "cell_type": "code",
   "execution_count": null,
   "id": "8a2c0a6c",
   "metadata": {
    "ExecuteTime": {
     "end_time": "2022-04-09T15:11:47.233707Z",
     "start_time": "2022-04-09T15:11:45.335765Z"
    }
   },
   "outputs": [],
   "source": [
    "plt.figure(figsize=(15,15))\n",
    "\n",
    "for i, p in enumerate(ps):\n",
    "    for j, T in enumerate(Ts):\n",
    "        plt.subplot(len(ps),len(Ts),i*len(Ts)+j+1)\n",
    "        \n",
    "        for traj in res_3[1][i][j]:\n",
    "            plt.plot(np.arange(steps)*dt, traj, c='k', alpha=0.6)\n",
    "        plt.axhline(xplus, ls='--', c='blue', label=r'$x_+$', lw=3)\n",
    "        plt.axhline(xminus, ls='--', c='r', label=r'$x_-$', lw=3)\n",
    "        plt.ylim([0,.35])\n",
    "        \n",
    "        if i==0:\n",
    "            plt.title(titles[j])\n",
    "        \n",
    "        if j%len(Ts)==0:\n",
    "            plt.ylabel('x[t], p='+str(p))\n",
    "        if i==len(ps)-1:\n",
    "            plt.xlabel('t')\n",
    "plt.show()"
   ]
  },
  {
   "cell_type": "code",
   "execution_count": null,
   "id": "388b373f",
   "metadata": {
    "ExecuteTime": {
     "end_time": "2022-04-09T15:11:56.337580Z",
     "start_time": "2022-04-09T15:11:54.133151Z"
    }
   },
   "outputs": [],
   "source": [
    "plt.figure(figsize=(15,15))\n",
    "\n",
    "for i, p in enumerate(ps):\n",
    "    for j, T in enumerate(Ts):\n",
    "        plt.subplot(len(ps),len(Ts),i*len(Ts)+j+1)\n",
    "        \n",
    "        for traj in res_3[2][i][j]:\n",
    "            plt.plot(np.arange(steps)*dt, traj, c='k', alpha=0.6)\n",
    "        plt.axhline(xplus, ls='--', c='blue', label=r'$x_+$', lw=3)\n",
    "        plt.axhline(xminus, ls='--', c='r', label=r'$x_-$', lw=3)\n",
    "        plt.ylim([0,.35])\n",
    "        \n",
    "        if i==0:\n",
    "            plt.title(titles[j])\n",
    "        \n",
    "        if j%len(Ts)==0:\n",
    "            plt.ylabel('x[t], p='+str(p))\n",
    "        if i==len(ps)-1:\n",
    "            plt.xlabel('t')\n",
    "plt.show()"
   ]
  },
  {
   "cell_type": "code",
   "execution_count": null,
   "id": "98a545ab",
   "metadata": {
    "ExecuteTime": {
     "end_time": "2022-04-11T10:39:38.323607Z",
     "start_time": "2022-04-11T10:23:26.265934Z"
    }
   },
   "outputs": [],
   "source": [
    "pdfs = ['uniform', 'exp', 'normal']\n",
    "ps = [0.1, 0.2, 0.3, 0.4, 0.6, 0.8]\n",
    "\n",
    "Ts = [0.5*Tminus, Tminus + 0.5*(Tplus-Tminus), 2.*Tplus]\n",
    "titles = [r'$T<T_-$', r'$T_-<T<T_+$', r'$T>T_+$']\n",
    "\n",
    "dt = 0.05\n",
    "steps = int(1e3)\n",
    "N = int(1e3)\n",
    "\n",
    "res_3 = []\n",
    "\n",
    "for pdf in pdfs:\n",
    "    tmp_res_1 = []\n",
    "    \n",
    "    for p in ps:        \n",
    "        # Generate weights\n",
    "        print('[*] Generating topology for pdf='+ pdf)\n",
    "        weights = generate_random(pdf, N)\n",
    "        \n",
    "        # Generate graphs\n",
    "        print('[*] Generating topology for p='+ str(p))\n",
    "        top = ig.Graph.Erdos_Renyi(n=N, p=p).get_adjacency_sparse().toarray()\n",
    "        \n",
    "        # Mask weights with network\n",
    "        top = weights * top\n",
    "        \n",
    "        # Homeostatic normalization\n",
    "        top = normalize(top)\n",
    "        \n",
    "        tmp = run_htc_hysteresis(top, dt, steps, N=N, r1=r1, r2=r2, Tmin=xminus/5, Tmax=5*Tplus, Tdiv_log=True, nT=40, runs=1, display=True)\n",
    "    \n",
    "        tmp_res_1.append(tmp)\n",
    "    res_3.append(tmp_res_1)"
   ]
  },
  {
   "cell_type": "code",
   "execution_count": null,
   "id": "6d0683b0",
   "metadata": {
    "ExecuteTime": {
     "end_time": "2022-04-11T10:39:54.524229Z",
     "start_time": "2022-04-11T10:39:54.041924Z"
    }
   },
   "outputs": [],
   "source": [
    "plt.figure(figsize=(8,5))\n",
    "\n",
    "for i, res in enumerate(res_3[0]):\n",
    "    plt.plot(res[0], res[1], '-o', zorder=50-i, label=ps[i], alpha=0.9)\n",
    "\n",
    "plt.xscale('log')\n",
    "plt.xlabel('t')\n",
    "plt.ylabel('x[t]')\n",
    "\n",
    "plt.axhline(xplus, ls='--', c='blue', lw=3, zorder=1)\n",
    "plt.axhline(xminus, ls='--', c='r', lw=3, zorder=1)\n",
    "\n",
    "plt.axvline(xplus, lw=3, zorder=1, c='k', alpha=0.5)\n",
    "plt.axvline(xminus, lw=3, zorder=1, c='k', alpha=0.5)\n",
    "\n",
    "plt.legend()\n",
    "plt.show()"
   ]
  },
  {
   "cell_type": "code",
   "execution_count": null,
   "id": "065d8fbd",
   "metadata": {
    "ExecuteTime": {
     "end_time": "2022-04-11T10:40:08.540358Z",
     "start_time": "2022-04-11T10:40:08.117523Z"
    }
   },
   "outputs": [],
   "source": [
    "plt.figure(figsize=(8,5))\n",
    "\n",
    "for i, res in enumerate(res_3[1]):\n",
    "    plt.plot(res[0], res[1], '-o', zorder=50-i, label=ps[i], alpha=0.9)\n",
    "\n",
    "plt.xscale('log')\n",
    "plt.xlabel('t')\n",
    "plt.ylabel('x[t]')\n",
    "\n",
    "plt.axhline(xplus, ls='--', c='blue', lw=3, zorder=1)\n",
    "plt.axhline(xminus, ls='--', c='r', lw=3, zorder=1)\n",
    "\n",
    "plt.axvline(xplus, lw=3, zorder=1, c='k', alpha=0.5)\n",
    "plt.axvline(xminus, lw=3, zorder=1, c='k', alpha=0.5)\n",
    "\n",
    "plt.legend()\n",
    "plt.show()"
   ]
  },
  {
   "cell_type": "code",
   "execution_count": null,
   "id": "cecc64ad",
   "metadata": {
    "ExecuteTime": {
     "end_time": "2022-04-11T10:40:15.572191Z",
     "start_time": "2022-04-11T10:40:15.150166Z"
    }
   },
   "outputs": [],
   "source": [
    "plt.figure(figsize=(8,5))\n",
    "\n",
    "for i, res in enumerate(res_3[2]):\n",
    "    plt.plot(res[0], res[1], '-o', zorder=50-i, label=ps[i], alpha=0.9)\n",
    "\n",
    "plt.xscale('log')\n",
    "plt.xlabel('t')\n",
    "plt.ylabel('x[t]')\n",
    "\n",
    "plt.axhline(xplus, ls='--', c='blue', lw=3, zorder=1)\n",
    "plt.axhline(xminus, ls='--', c='r', lw=3, zorder=1)\n",
    "\n",
    "plt.axvline(xplus, lw=3, zorder=1, c='k', alpha=0.5)\n",
    "plt.axvline(xminus, lw=3, zorder=1, c='k', alpha=0.5)\n",
    "\n",
    "plt.legend()\n",
    "plt.show()"
   ]
  },
  {
   "cell_type": "code",
   "execution_count": null,
   "id": "f9aa4d93",
   "metadata": {
    "ExecuteTime": {
     "end_time": "2022-04-09T15:18:31.851780Z",
     "start_time": "2022-04-09T15:18:31.742121Z"
    }
   },
   "outputs": [],
   "source": [
    "weights = generate_random('exp', N=int(1e3))\n",
    "top = ig.Graph.Erdos_Renyi(n=N, p=0.1).get_adjacency_sparse().toarray()\n",
    "\n",
    "top = normalize(top*weights)"
   ]
  },
  {
   "cell_type": "code",
   "execution_count": null,
   "id": "382a0562",
   "metadata": {
    "ExecuteTime": {
     "end_time": "2022-04-09T15:18:32.997243Z",
     "start_time": "2022-04-09T15:18:32.545704Z"
    }
   },
   "outputs": [],
   "source": [
    "plt.imshow(top, norm=LogNorm(vmin=1e-5, vmax=1))\n",
    "plt.colorbar()\n",
    "plt.show()"
   ]
  },
  {
   "cell_type": "markdown",
   "id": "f916f02f",
   "metadata": {},
   "source": [
    "# Connectome"
   ]
  },
  {
   "cell_type": "code",
   "execution_count": 11,
   "id": "76c90327",
   "metadata": {
    "ExecuteTime": {
     "end_time": "2022-04-22T14:28:03.929967Z",
     "start_time": "2022-04-22T14:28:03.395742Z"
    }
   },
   "outputs": [
    {
     "name": "stdout",
     "output_type": "stream",
     "text": [
      "Size: 998\n",
      "Degree: 79.73\n",
      "Number of links: 39787\n",
      "Probabilty: 0.04\n"
     ]
    }
   ],
   "source": [
    "W = np.loadtxt('connectome.txt')\n",
    "\n",
    "N = W.shape[0]\n",
    "mask = (W>0).astype(int)\n",
    "\n",
    "degree = np.mean(np.sum(mask, axis=0))\n",
    "links = len(W[np.triu_indices(N,1)].nonzero()[0])\n",
    "\n",
    "print('Size:', W.shape[0])\n",
    "print('Degree:', np.round(degree,2))\n",
    "print('Number of links:', links)\n",
    "print('Probabilty:', np.round(links/N/(N-1),2))"
   ]
  },
  {
   "cell_type": "code",
   "execution_count": null,
   "id": "b0afb3ef",
   "metadata": {
    "ExecuteTime": {
     "end_time": "2022-04-14T17:30:42.478768Z",
     "start_time": "2022-04-14T17:30:41.050779Z"
    }
   },
   "outputs": [],
   "source": [
    "ww = W[np.triu_indices(N,1)]\n",
    "ww = ww[ww>0]\n",
    "\n",
    "plt.hist(ww, bins=np.logspace(-5,0, 400))\n",
    "plt.xscale('log')\n",
    "#plt.yscale('log')\n",
    "plt.show()"
   ]
  },
  {
   "cell_type": "code",
   "execution_count": null,
   "id": "f31e0425",
   "metadata": {
    "ExecuteTime": {
     "end_time": "2022-04-14T17:30:51.299393Z",
     "start_time": "2022-04-14T17:30:49.943648Z"
    }
   },
   "outputs": [],
   "source": [
    "weight = generate_random('exp',N, lmbd=12.5 )\n",
    "ww = weight[np.triu_indices(N,1)]\n",
    "ww = ww[ww>0]\n",
    "\n",
    "plt.hist(ww, bins=np.logspace(-5,0, 400))\n",
    "plt.xscale('log')\n",
    "#plt.yscale('log')\n",
    "plt.show()"
   ]
  },
  {
   "cell_type": "code",
   "execution_count": null,
   "id": "f21e2788",
   "metadata": {
    "ExecuteTime": {
     "end_time": "2022-04-11T11:16:32.634325Z",
     "start_time": "2022-04-11T11:16:32.006331Z"
    }
   },
   "outputs": [],
   "source": [
    "plt.figure(figsize=(6,6))\n",
    "im = plt.imshow(W, norm=LogNorm(vmin=1e-6, vmax=1))\n",
    "plt.colorbar(im,fraction=0.046, pad=0.03)\n",
    "plt.axis('off')\n",
    "plt.show()"
   ]
  },
  {
   "cell_type": "code",
   "execution_count": 12,
   "id": "a71b4a74",
   "metadata": {
    "ExecuteTime": {
     "end_time": "2022-04-22T14:28:07.470105Z",
     "start_time": "2022-04-22T14:28:07.063279Z"
    }
   },
   "outputs": [],
   "source": [
    "W = np.loadtxt('connectome.txt')\n",
    "W = normalize(W)"
   ]
  },
  {
   "cell_type": "code",
   "execution_count": 24,
   "id": "af683065",
   "metadata": {
    "ExecuteTime": {
     "end_time": "2022-04-21T14:44:47.958971Z",
     "start_time": "2022-04-21T14:21:31.083757Z"
    }
   },
   "outputs": [
    {
     "name": "stdout",
     "output_type": "stream",
     "text": [
      "End simulating activity\n",
      "Total computation time: 1396.82s\n"
     ]
    }
   ],
   "source": [
    "dt = 0.01\n",
    "steps = int(5e4)\n",
    "\n",
    "res_connectome_1 = []\n",
    "    \n",
    "# Run model\n",
    "tmp = run_htc_hysteresis(W, dt, steps, eq_steps=int(5e3), N=W.shape[0], r1=r1, r2=r2, Tmin=xminus/5, Tmax=5*Tplus, Tdiv_log=True, nT=60, runs=1, display=True)\n",
    "res_connectome_1.append(tmp)\n",
    "\n",
    "name = 'old_hist_connectome_dt_{}.npy'.format(np.round(dt,3))\n",
    "np.save(folder+name, tmp)"
   ]
  },
  {
   "cell_type": "code",
   "execution_count": 28,
   "id": "d9b077c6",
   "metadata": {
    "ExecuteTime": {
     "end_time": "2022-04-21T14:57:07.417003Z",
     "start_time": "2022-04-21T14:57:06.621221Z"
    }
   },
   "outputs": [
    {
     "data": {
      "image/png": "[encoded data removed]",
      "text/plain": [
       "<Figure size 576x360 with 1 Axes>"
      ]
     },
     "metadata": {
      "needs_background": "light"
     },
     "output_type": "display_data"
    }
   ],
   "source": [
    "plt.figure(figsize=(8,5))\n",
    "\n",
    "plt.plot(res_connectome_1[0][0], res_connectome_1[0][1], '-o', zorder=2)\n",
    "\n",
    "plt.xscale('log')\n",
    "plt.xlabel('t')\n",
    "plt.ylabel('x[t]')\n",
    "\n",
    "plt.axhline(xplus, ls='--', c='blue', lw=3, zorder=1)\n",
    "plt.axhline(xminus, ls='--', c='r', lw=3, zorder=1)\n",
    "\n",
    "plt.axvline(xplus, lw=3, zorder=1, c='k', alpha=0.5)\n",
    "plt.axvline(xminus, lw=3, zorder=1, c='k', alpha=0.5)\n",
    "\n",
    "#plt.legend()\n",
    "plt.show()"
   ]
  },
  {
   "cell_type": "code",
   "execution_count": 27,
   "id": "7413e0ab",
   "metadata": {
    "ExecuteTime": {
     "end_time": "2022-04-21T14:56:30.134905Z",
     "start_time": "2022-04-21T14:56:29.786764Z"
    }
   },
   "outputs": [
    {
     "data": {
      "image/png": "[encoded data removed]",
      "text/plain": [
       "<Figure size 576x360 with 1 Axes>"
      ]
     },
     "metadata": {
      "needs_background": "light"
     },
     "output_type": "display_data"
    }
   ],
   "source": [
    "plt.figure(figsize=(8,5))\n",
    "\n",
    "plt.plot(res_connectome_1[0][0], res_connectome_1[0][2], '-o', zorder=2)\n",
    "\n",
    "plt.xscale('log')\n",
    "plt.xlabel('t')\n",
    "plt.ylabel('x[t]')\n",
    "\n",
    "plt.axhline(xplus, ls='--', c='blue', lw=3, zorder=1)\n",
    "plt.axhline(xminus, ls='--', c='r', lw=3, zorder=1)\n",
    "\n",
    "plt.axvline(xplus, lw=3, zorder=1, c='k', alpha=0.5)\n",
    "plt.axvline(xminus, lw=3, zorder=1, c='k', alpha=0.5)\n",
    "\n",
    "#plt.legend()\n",
    "plt.show()"
   ]
  },
  {
   "cell_type": "code",
   "execution_count": null,
   "id": "0050ee08",
   "metadata": {
    "ExecuteTime": {
     "end_time": "2022-04-15T13:59:34.871070Z",
     "start_time": "2022-04-15T13:52:20.102088Z"
    }
   },
   "outputs": [],
   "source": [
    "ks = np.arange(0,1.4,0.1)\n",
    "Ts = Tminus + ks*(Tplus-Tminus)\n",
    "\n",
    "dt = 0.01\n",
    "steps = int(5e3)\n",
    "\n",
    "res_connectome = []\n",
    "    \n",
    "for T in Ts:\n",
    "    print('[-] T='+str(T))\n",
    "    # Run model\n",
    "    x, y = run_htc_single(W, xplus, yplus, T, r1, r2, dt, steps, N=W.shape[0], runs=30)\n",
    "    res_connectome.append(x)\n",
    "    \n",
    "    name = 'traj_connectome_dt_{}_T_{}.npy'.format(np.round(dt,3),np.round(np.log10(T),2))\n",
    "    np.save(folder+name, x)"
   ]
  },
  {
   "cell_type": "code",
   "execution_count": null,
   "id": "366f47cc",
   "metadata": {
    "ExecuteTime": {
     "end_time": "2022-04-15T14:00:18.115218Z",
     "start_time": "2022-04-15T14:00:14.787575Z"
    }
   },
   "outputs": [],
   "source": [
    "### plt.figure(figsize=(20,15))\n",
    "\n",
    "for j, T in enumerate(Ts):\n",
    "    plt.subplot(4,len(Ts)//3,j+1)\n",
    "        \n",
    "    for traj in res_connectome[j]:\n",
    "        plt.plot(np.arange(steps)*dt, traj, c='k', alpha=0.6)\n",
    "    plt.axhline(xplus, ls='--', c='blue', label=r'$x_+$', lw=3)\n",
    "    plt.axhline(xminus, ls='--', c='r', label=r'$x_-$', lw=3)\n",
    "    plt.ylim([0,.35])\n",
    "        \n",
    "    if j==0:\n",
    "        plt.ylabel('x[t]')\n",
    "    plt.xlabel('t')\n",
    "    plt.title(r'$T=T_- + $'+str(np.round(ks[j],1))+r'$(T_+ - T_-)$')\n",
    "\n",
    "plt.tight_layout()\n",
    "plt.show()"
   ]
  },
  {
   "cell_type": "code",
   "execution_count": 5,
   "id": "fd0a8c20",
   "metadata": {
    "ExecuteTime": {
     "end_time": "2022-04-22T14:24:51.062666Z",
     "start_time": "2022-04-22T14:24:51.055824Z"
    }
   },
   "outputs": [],
   "source": [
    "dt = 0.01\n",
    "name = 'hist_connectome_dt_{}.npy'.format(np.round(dt,3))\n",
    "res_connectome_1 = np.load(folder+name)"
   ]
  },
  {
   "cell_type": "code",
   "execution_count": 7,
   "id": "d77e92c5",
   "metadata": {
    "ExecuteTime": {
     "end_time": "2022-04-22T14:24:59.276909Z",
     "start_time": "2022-04-22T14:24:59.269988Z"
    }
   },
   "outputs": [
    {
     "name": "stdout",
     "output_type": "stream",
     "text": [
      "[0.001, 0.10919523667238883, 0.3]\n"
     ]
    }
   ],
   "source": [
    "Tlow = 1e-3\n",
    "Tcrit = res_connectome_1[0][np.argmax(res_connectome_1[2])]\n",
    "Thigh = 3e-1\n",
    "\n",
    "Ts = [Tlow, Tcrit, Thigh]\n",
    "print(Ts)"
   ]
  },
  {
   "cell_type": "code",
   "execution_count": 33,
   "id": "d12b503a",
   "metadata": {
    "ExecuteTime": {
     "end_time": "2022-04-27T07:11:03.255281Z",
     "start_time": "2022-04-27T07:11:03.250263Z"
    }
   },
   "outputs": [],
   "source": [
    "dT = 0.1\n",
    "Ts = np.arange(0, 1.5, dT) * Tplus"
   ]
  },
  {
   "cell_type": "code",
   "execution_count": 34,
   "id": "488f8248",
   "metadata": {
    "ExecuteTime": {
     "end_time": "2022-04-27T07:11:04.112753Z",
     "start_time": "2022-04-27T07:11:04.104519Z"
    }
   },
   "outputs": [
    {
     "name": "stderr",
     "output_type": "stream",
     "text": [
      "/home/barzon/.local/lib/python3.6/site-packages/ipykernel_launcher.py:1: RuntimeWarning: divide by zero encountered in log10\n",
      "  \"\"\"Entry point for launching an IPython kernel.\n"
     ]
    },
    {
     "data": {
      "text/plain": [
       "array([       -inf, -2.07918125, -1.77815125, -1.60205999, -1.47712125,\n",
       "       -1.38021124, -1.30103   , -1.23408321, -1.17609126, -1.12493874,\n",
       "       -1.07918125, -1.03778856, -1.        , -0.96523789, -0.93305321])"
      ]
     },
     "execution_count": 34,
     "metadata": {},
     "output_type": "execute_result"
    }
   ],
   "source": [
    "np.log10(Ts)"
   ]
  },
  {
   "cell_type": "code",
   "execution_count": null,
   "id": "7355411d",
   "metadata": {
    "ExecuteTime": {
     "start_time": "2022-04-23T10:51:57.706Z"
    }
   },
   "outputs": [],
   "source": [
    "dt = 0.05\n",
    "steps = int(1e6)\n",
    "runs = 10\n",
    "\n",
    "res_connectome_pw = []\n",
    "    \n",
    "for T in Ts:\n",
    "    print('[-] T='+str(T))\n",
    "    # Run model\n",
    "    x, y = run_htc_single(W, xplus, yplus, T, r1, r2, dt, steps, eq_steps=int(1e3), N=W.shape[0], runs=runs)\n",
    "    res_connectome_pw.append(x)\n",
    "    \n",
    "    name = 'traj_long_connectome_dt_{}_steps_{}_T_{}.npy'.format(np.round(dt,3),steps,np.round(np.log10(T),2))\n",
    "    np.save(folder+name, x)"
   ]
  },
  {
   "cell_type": "code",
   "execution_count": null,
   "id": "534926f3",
   "metadata": {
    "ExecuteTime": {
     "start_time": "2022-04-22T15:19:28.006Z"
    }
   },
   "outputs": [],
   "source": [
    "dT = 0.1\n",
    "Ts = np.arange(0, 1.5, dT) * Tplus\n",
    "\n",
    "dt = 0.05\n",
    "steps = int(5e5)\n",
    "runs = 10\n",
    "\n",
    "res_connectome_pw = []\n",
    "    \n",
    "for T in Ts:\n",
    "    print('[-] T='+str(T))\n",
    "    # Run model\n",
    "    x, y = run_htc_single(W, xplus, yplus, T, r1, r2, dt, steps, eq_steps=int(1e3), N=W.shape[0], runs=runs)\n",
    "    res_connectome_pw.append(x)\n",
    "    \n",
    "    name = 'traj_long_connectome_r2_1_dt_{}_steps_{}_T_{}.npy'.format(np.round(dt,3),steps,np.round(np.log10(T),2))\n",
    "    np.save(folder+name, x)"
   ]
  },
  {
   "cell_type": "code",
   "execution_count": null,
   "id": "1ed6602b",
   "metadata": {
    "ExecuteTime": {
     "end_time": "2022-04-19T12:14:33.392022Z",
     "start_time": "2022-04-19T12:14:33.385120Z"
    }
   },
   "outputs": [],
   "source": [
    "name = 'traj_long_connectome_dt_{}_steps_{}_T_{}.npy'.format(np.round(dt,3),steps,np.round(np.log10(T),2))\n",
    "print(name)"
   ]
  },
  {
   "cell_type": "markdown",
   "id": "54821979",
   "metadata": {},
   "source": [
    "# Randomized connectome"
   ]
  },
  {
   "cell_type": "code",
   "execution_count": null,
   "id": "94d1581d",
   "metadata": {
    "ExecuteTime": {
     "start_time": "2022-04-23T10:52:08.035Z"
    }
   },
   "outputs": [],
   "source": [
    "Wrand = np.load('randomized/333749_8.txt.npy')"
   ]
  },
  {
   "cell_type": "code",
   "execution_count": null,
   "id": "56b6b178",
   "metadata": {
    "ExecuteTime": {
     "end_time": "2022-04-11T11:16:16.495357Z",
     "start_time": "2022-04-11T11:16:15.869975Z"
    }
   },
   "outputs": [],
   "source": [
    "plt.figure(figsize=(6,6))\n",
    "im = plt.imshow(Wrand, norm=LogNorm(vmin=1e-6, vmax=1))\n",
    "plt.colorbar(im,fraction=0.046, pad=0.03)\n",
    "plt.axis('off')\n",
    "plt.show()"
   ]
  },
  {
   "cell_type": "code",
   "execution_count": null,
   "id": "0ca9bd84",
   "metadata": {
    "ExecuteTime": {
     "start_time": "2022-04-23T10:52:09.706Z"
    }
   },
   "outputs": [],
   "source": [
    "Wrand = normalize(Wrand)"
   ]
  },
  {
   "cell_type": "code",
   "execution_count": null,
   "id": "4d23e5da",
   "metadata": {
    "ExecuteTime": {
     "start_time": "2022-04-23T10:52:27.075Z"
    }
   },
   "outputs": [],
   "source": [
    "dt = 0.05\n",
    "steps = int(1e6)\n",
    "runs = 10\n",
    "\n",
    "res_connectome_pw = []\n",
    "    \n",
    "for T in Ts:\n",
    "    print('[-] T='+str(T))\n",
    "    # Run model\n",
    "    x, y = run_htc_single(Wrand, xplus, yplus, T, r1, r2, dt, steps, eq_steps=int(1e3), N=W.shape[0], runs=runs)\n",
    "    res_connectome_pw.append(x)\n",
    "    \n",
    "    name = 'traj_long_connectome_rand_dt_{}_steps_{}_T_{}.npy'.format(np.round(dt,3),steps,np.round(np.log10(T),2))\n",
    "    np.save(folder+name, x)"
   ]
  },
  {
   "cell_type": "code",
   "execution_count": null,
   "id": "659209b3",
   "metadata": {
    "ExecuteTime": {
     "start_time": "2022-04-20T11:24:01.639Z"
    }
   },
   "outputs": [],
   "source": [
    "dt = 0.01\n",
    "steps = int(5e3)\n",
    "    \n",
    "# Run model\n",
    "res_connectome_rand = run_htc_hysteresis(Wrand, dt, steps, eq_steps=int(5e3), N=W.shape[0], r1=r1, r2=r2, Tmin=xminus/5, Tmax=5*Tplus, Tdiv_log=True, nT=60, runs=1, display=True)\n",
    "\n",
    "name = 'hist_connectome_rand_dt_{}.npy'.format(np.round(dt,3))\n",
    "np.save(folder+name, res_connectome_rand)"
   ]
  },
  {
   "cell_type": "code",
   "execution_count": null,
   "id": "0ae32244",
   "metadata": {
    "ExecuteTime": {
     "end_time": "2022-04-15T14:16:35.217945Z",
     "start_time": "2022-04-15T14:16:34.894212Z"
    }
   },
   "outputs": [],
   "source": [
    "plt.figure(figsize=(8,5))\n",
    "\n",
    "plt.plot(res_connectome_rand[0], res_connectome_rand[1], '-o', zorder=2)\n",
    "\n",
    "plt.xscale('log')\n",
    "plt.xlabel('t')\n",
    "plt.ylabel('x[t]')\n",
    "\n",
    "plt.axhline(xplus, ls='--', c='blue', lw=3, zorder=1)\n",
    "plt.axhline(xminus, ls='--', c='r', lw=3, zorder=1)\n",
    "\n",
    "plt.axvline(xplus, lw=3, zorder=1, c='k', alpha=0.5)\n",
    "plt.axvline(xminus, lw=3, zorder=1, c='k', alpha=0.5)\n",
    "\n",
    "#plt.legend()\n",
    "plt.show()"
   ]
  },
  {
   "cell_type": "code",
   "execution_count": null,
   "id": "fdf2f637",
   "metadata": {
    "ExecuteTime": {
     "start_time": "2022-04-20T11:24:12.596Z"
    }
   },
   "outputs": [],
   "source": [
    "dt = 0.01\n",
    "steps = int(5e5)\n",
    "\n",
    "res_connectome_rand = []\n",
    "    \n",
    "# Run model\n",
    "tmp = run_htc_hysteresis(Wrand, dt, steps, N=W.shape[0], r1=r1, r2=r2, Tmin=xminus/5, Tmax=5*Tplus, Tdiv_log=True, nT=40, runs=1, display=True)\n",
    "res_connectome_rand.append(tmp)"
   ]
  },
  {
   "cell_type": "code",
   "execution_count": null,
   "id": "666d4080",
   "metadata": {
    "ExecuteTime": {
     "end_time": "2022-04-11T11:53:47.535325Z",
     "start_time": "2022-04-11T11:53:47.172562Z"
    }
   },
   "outputs": [],
   "source": [
    "plt.figure(figsize=(8,5))\n",
    "\n",
    "plt.plot(res_connectome_rand[0][0], res_connectome_rand[0][1], '-o', zorder=2)\n",
    "\n",
    "plt.xscale('log')\n",
    "plt.xlabel('t')\n",
    "plt.ylabel('x[t]')\n",
    "\n",
    "plt.axhline(xplus, ls='--', c='blue', lw=3, zorder=1)\n",
    "plt.axhline(xminus, ls='--', c='r', lw=3, zorder=1)\n",
    "\n",
    "plt.axvline(xplus, lw=3, zorder=1, c='k', alpha=0.5)\n",
    "plt.axvline(xminus, lw=3, zorder=1, c='k', alpha=0.5)\n",
    "\n",
    "#plt.legend()\n",
    "plt.show()"
   ]
  },
  {
   "cell_type": "code",
   "execution_count": null,
   "id": "6dc9c147",
   "metadata": {
    "ExecuteTime": {
     "end_time": "2022-04-11T12:12:24.401375Z",
     "start_time": "2022-04-11T11:54:44.743261Z"
    }
   },
   "outputs": [],
   "source": [
    "dt = 0.05\n",
    "steps = int(5e4)\n",
    "\n",
    "res_connectome_rand = []\n",
    "    \n",
    "# Run model\n",
    "tmp = run_htc_hysteresis(Wrand, dt, steps, N=W.shape[0], r1=r1, r2=r2, Tmin=1e-2, Tmax=1e-1, Tdiv_log=False, nT=40, runs=1, display=True)\n",
    "res_connectome_rand.append(tmp)"
   ]
  },
  {
   "cell_type": "code",
   "execution_count": null,
   "id": "24c57a23",
   "metadata": {
    "ExecuteTime": {
     "end_time": "2022-04-11T12:15:08.989729Z",
     "start_time": "2022-04-11T12:15:08.705523Z"
    }
   },
   "outputs": [],
   "source": [
    "plt.figure(figsize=(8,5))\n",
    "\n",
    "plt.plot(res_connectome_rand[0][0], res_connectome_rand[0][1], '-o', zorder=2)\n",
    "\n",
    "plt.xscale('log')\n",
    "plt.xlabel('t')\n",
    "plt.ylabel('x[t]')\n",
    "\n",
    "plt.axhline(xplus, ls='--', c='blue', lw=3, zorder=1)\n",
    "plt.axhline(xminus, ls='--', c='r', lw=3, zorder=1)\n",
    "\n",
    "#plt.axvline(xplus, lw=3, zorder=1, c='k', alpha=0.5)\n",
    "#plt.axvline(xminus, lw=3, zorder=1, c='k', alpha=0.5)\n",
    "\n",
    "#plt.legend()\n",
    "plt.show()"
   ]
  },
  {
   "cell_type": "code",
   "execution_count": null,
   "id": "e578553b",
   "metadata": {
    "ExecuteTime": {
     "end_time": "2022-04-11T12:23:01.444700Z",
     "start_time": "2022-04-11T12:20:57.442026Z"
    }
   },
   "outputs": [],
   "source": [
    "ks = np.arange(0,1.4,0.1)\n",
    "Ts = Tminus + ks*(Tplus-Tminus)\n",
    "\n",
    "dt = 0.05\n",
    "steps = int(1e3)\n",
    "N = int(1e3)\n",
    "\n",
    "res_connectome_rand_traj = []\n",
    "    \n",
    "for T in Ts:\n",
    "    print('[-] T='+str(T))\n",
    "    # Run model\n",
    "    x, y = run_htc_single(Wrand, xplus, yplus, T, r1, r2, dt, steps, N=W.shape[0], runs=30)\n",
    "    res_connectome_rand_traj.append(x)"
   ]
  },
  {
   "cell_type": "code",
   "execution_count": null,
   "id": "c1205c75",
   "metadata": {
    "ExecuteTime": {
     "end_time": "2022-04-11T12:23:04.303301Z",
     "start_time": "2022-04-11T12:23:01.662935Z"
    }
   },
   "outputs": [],
   "source": [
    "plt.figure(figsize=(20,15))\n",
    "\n",
    "for j, T in enumerate(Ts):\n",
    "    plt.subplot(4,len(Ts)//3,j+1)\n",
    "        \n",
    "    for traj in res_connectome_rand_traj[j]:\n",
    "        plt.plot(np.arange(steps)*dt, traj, c='k', alpha=0.6)\n",
    "    plt.axhline(xplus, ls='--', c='blue', label=r'$x_+$', lw=3)\n",
    "    plt.axhline(xminus, ls='--', c='r', label=r'$x_-$', lw=3)\n",
    "    plt.ylim([0,.35])\n",
    "        \n",
    "    if j==0:\n",
    "        plt.ylabel('x[t]')\n",
    "    plt.xlabel('t')\n",
    "    plt.title(r'$T=T_- + $'+str(np.round(ks[j],1))+r'$(T_+ - T_-)$')\n",
    "\n",
    "plt.tight_layout()\n",
    "plt.show()"
   ]
  },
  {
   "cell_type": "code",
   "execution_count": null,
   "id": "ea1886a8",
   "metadata": {
    "ExecuteTime": {
     "start_time": "2022-04-16T10:29:06.583Z"
    }
   },
   "outputs": [],
   "source": [
    "dt = 0.05\n",
    "steps = int(1e6)\n",
    "\n",
    "res_connectome_pw = []\n",
    "    \n",
    "for T in Ts:\n",
    "    print('[-] T='+str(T))\n",
    "    # Run model\n",
    "    x, y = run_htc_single(Wrand, xplus, yplus, T, r1, r2, dt, steps, N=W.shape[0], runs=20)\n",
    "    res_connectome_pw.append(x)\n",
    "    \n",
    "    name = 'traj_long_connectome_rand_dt_{}_T_{}.npy'.format(np.round(dt,3),np.round(np.log10(T),2))\n",
    "    np.save(folder+name, x)"
   ]
  },
  {
   "cell_type": "markdown",
   "id": "2f8dd5ee",
   "metadata": {},
   "source": [
    "# Binarized connectome"
   ]
  },
  {
   "cell_type": "code",
   "execution_count": null,
   "id": "9f6d5e70",
   "metadata": {
    "ExecuteTime": {
     "start_time": "2022-04-23T10:52:31.784Z"
    }
   },
   "outputs": [],
   "source": [
    "Wbin = np.loadtxt('connectome.txt')\n",
    "Wbin = (Wbin>0).astype(int)"
   ]
  },
  {
   "cell_type": "code",
   "execution_count": null,
   "id": "3330e88c",
   "metadata": {
    "ExecuteTime": {
     "end_time": "2022-04-15T14:19:27.624789Z",
     "start_time": "2022-04-15T14:19:27.311997Z"
    }
   },
   "outputs": [],
   "source": [
    "plt.figure(figsize=(6,6))\n",
    "im = plt.imshow(Wbin)\n",
    "plt.colorbar(im,fraction=0.046, pad=0.03)\n",
    "plt.axis('off')\n",
    "plt.show()"
   ]
  },
  {
   "cell_type": "code",
   "execution_count": null,
   "id": "a984ed91",
   "metadata": {
    "ExecuteTime": {
     "start_time": "2022-04-23T10:52:33.349Z"
    }
   },
   "outputs": [],
   "source": [
    "Wbin = normalize(Wbin)"
   ]
  },
  {
   "cell_type": "code",
   "execution_count": null,
   "id": "0e62f746",
   "metadata": {
    "ExecuteTime": {
     "start_time": "2022-04-23T10:52:46.226Z"
    }
   },
   "outputs": [],
   "source": [
    "dt = 0.05\n",
    "steps = int(1e6)\n",
    "runs = 10\n",
    "\n",
    "res_connectome_pw = []\n",
    "    \n",
    "for T in Ts:\n",
    "    print('[-] T='+str(T))\n",
    "    # Run model\n",
    "    x, y = run_htc_single(Wbin, xplus, yplus, T, r1, r2, dt, steps, eq_steps=int(1e3), N=W.shape[0], runs=runs)\n",
    "    res_connectome_pw.append(x)\n",
    "    \n",
    "    name = 'traj_long_connectome_bin_dt_{}_steps_{}_T_{}.npy'.format(np.round(dt,3),steps,np.round(np.log10(T),2))\n",
    "    np.save(folder+name, x)"
   ]
  },
  {
   "cell_type": "code",
   "execution_count": null,
   "id": "19edef37",
   "metadata": {
    "ExecuteTime": {
     "start_time": "2022-04-20T11:24:30.785Z"
    }
   },
   "outputs": [],
   "source": [
    "dt = 0.01\n",
    "steps = int(5e3)\n",
    "    \n",
    "# Run model\n",
    "res_connectome_bin = run_htc_hysteresis(Wbin, dt, steps, eq_steps=int(1e3), N=W.shape[0], r1=r1, r2=r2, Tmin=xminus/5, Tmax=5*Tplus, Tdiv_log=True, nT=60, runs=1, display=True)\n",
    "\n",
    "name = 'hist_connectome_bin_dt_{}.npy'.format(np.round(dt,3))\n",
    "np.save(folder+name, res_connectome_bin)\n"
   ]
  },
  {
   "cell_type": "code",
   "execution_count": null,
   "id": "9614eaf7",
   "metadata": {
    "ExecuteTime": {
     "end_time": "2022-04-15T14:34:21.627471Z",
     "start_time": "2022-04-15T14:34:21.376246Z"
    }
   },
   "outputs": [],
   "source": [
    "plt.figure(figsize=(8,5))\n",
    "\n",
    "plt.plot(res_connectome_bin[0], res_connectome_bin[1], '-o', zorder=2)\n",
    "\n",
    "plt.xscale('log')\n",
    "plt.xlabel('t')\n",
    "plt.ylabel('x[t]')\n",
    "\n",
    "plt.axhline(xplus, ls='--', c='blue', lw=3, zorder=1)\n",
    "plt.axhline(xminus, ls='--', c='r', lw=3, zorder=1)\n",
    "\n",
    "plt.axvline(xplus, lw=3, zorder=1, c='k', alpha=0.5)\n",
    "plt.axvline(xminus, lw=3, zorder=1, c='k', alpha=0.5)\n",
    "\n",
    "#plt.legend()\n",
    "plt.show()"
   ]
  },
  {
   "cell_type": "code",
   "execution_count": null,
   "id": "c83f4266",
   "metadata": {
    "ExecuteTime": {
     "end_time": "2022-04-11T12:38:02.712919Z",
     "start_time": "2022-04-11T12:36:10.820682Z"
    }
   },
   "outputs": [],
   "source": [
    "ks = np.arange(0,1.4,0.1)\n",
    "Ts = Tminus + ks*(Tplus-Tminus)\n",
    "\n",
    "dt = 0.05\n",
    "steps = int(1e3)\n",
    "N = int(1e3)\n",
    "\n",
    "res_connectome_bin = []\n",
    "    \n",
    "for T in Ts:\n",
    "    print('[-] T='+str(T))\n",
    "    # Run model\n",
    "    x, y = run_htc_single(Wbin, xplus, yplus, T, r1, r2, dt, steps, N=W.shape[0], runs=30)\n",
    "    res_connectome_bin.append(x)"
   ]
  },
  {
   "cell_type": "code",
   "execution_count": null,
   "id": "60ebbc31",
   "metadata": {
    "ExecuteTime": {
     "end_time": "2022-04-11T12:38:07.683134Z",
     "start_time": "2022-04-11T12:38:02.983028Z"
    }
   },
   "outputs": [],
   "source": [
    "plt.figure(figsize=(20,15))\n",
    "\n",
    "for j, T in enumerate(Ts):\n",
    "    plt.subplot(4,len(Ts)//3,j+1)\n",
    "        \n",
    "    for traj in res_connectome_bin[j]:\n",
    "        plt.plot(np.arange(steps)*dt, traj, c='k', alpha=0.6)\n",
    "    plt.axhline(xplus, ls='--', c='blue', label=r'$x_+$', lw=3)\n",
    "    plt.axhline(xminus, ls='--', c='r', label=r'$x_-$', lw=3)\n",
    "    plt.ylim([0,.35])\n",
    "        \n",
    "    if j==0:\n",
    "        plt.ylabel('x[t]')\n",
    "    plt.xlabel('t')\n",
    "    plt.title(r'$T=T_- + $'+str(np.round(ks[j],1))+r'$(T_+ - T_-)$')\n",
    "\n",
    "plt.tight_layout()\n",
    "plt.show()"
   ]
  },
  {
   "cell_type": "code",
   "execution_count": null,
   "id": "6d40405f",
   "metadata": {
    "ExecuteTime": {
     "start_time": "2022-04-20T11:24:43.079Z"
    }
   },
   "outputs": [],
   "source": [
    "dt = 0.01\n",
    "steps = int(5e5)\n",
    "\n",
    "res_connectome_pw = []\n",
    "    \n",
    "for T in Ts:\n",
    "    print('[-] T='+str(T))\n",
    "    # Run model\n",
    "    x, y = run_htc_single(Wbin, xplus, yplus, T, r1, r2, dt, steps, N=W.shape[0], runs=20)\n",
    "    res_connectome_pw.append(x)\n",
    "    \n",
    "    name = 'traj_long_connectome_bin_dt_{}_T_{}.npy'.format(np.round(dt,3),np.round(np.log10(T),2))\n",
    "    np.save(folder+name, x)"
   ]
  },
  {
   "cell_type": "markdown",
   "id": "ca33606e",
   "metadata": {},
   "source": [
    "# Dynamic range"
   ]
  },
  {
   "cell_type": "code",
   "execution_count": 11,
   "id": "3c47c400",
   "metadata": {
    "ExecuteTime": {
     "end_time": "2022-04-22T10:22:55.187103Z",
     "start_time": "2022-04-22T10:22:55.181098Z"
    }
   },
   "outputs": [],
   "source": [
    "Nstim = 20\n",
    "stimuli = np.logspace(-5, 0, Nstim, endpoint=True)\n",
    "\n",
    "nT = 30\n",
    "Trange = np.logspace(np.log10(xminus/5), np.log10(5*Tplus), nT, endpoint=True)"
   ]
  },
  {
   "cell_type": "code",
   "execution_count": 12,
   "id": "db4c7781",
   "metadata": {
    "ExecuteTime": {
     "end_time": "2022-04-22T12:22:43.270143Z",
     "start_time": "2022-04-22T10:22:56.527687Z"
    }
   },
   "outputs": [],
   "source": [
    "dt = 0.01\n",
    "steps = int(5e3)\n",
    "\n",
    "stimulated = np.zeros((nT,Nstim))\n",
    "\n",
    "for i in range(nT):\n",
    "    for j, stimulus in enumerate(stimuli):\n",
    "        x, y = run_htc_single(W, xplus, yplus, Trange[i], stimuli[j], r2, dt, steps, eq_steps=int(1e3), N=W.shape[0], runs=10)\n",
    "        stimulated[i,j] = np.mean(x)"
   ]
  },
  {
   "cell_type": "code",
   "execution_count": null,
   "id": "68cf975c",
   "metadata": {},
   "outputs": [],
   "source": []
  }
 ],
 "metadata": {
  "kernelspec": {
   "display_name": "Python 3",
   "language": "python",
   "name": "python3"
  },
  "language_info": {
   "codemirror_mode": {
    "name": "ipython",
    "version": 3
   },
   "file_extension": ".py",
   "mimetype": "text/x-python",
   "name": "python",
   "nbconvert_exporter": "python",
   "pygments_lexer": "ipython3",
   "version": "3.6.9"
  },
  "varInspector": {
   "cols": {
    "lenName": 16,
    "lenType": 16,
    "lenVar": 40
   },
   "kernels_config": {
    "python": {
     "delete_cmd_postfix": "",
     "delete_cmd_prefix": "del ",
     "library": "var_list.py",
     "varRefreshCmd": "print(var_dic_list())"
    },
    "r": {
     "delete_cmd_postfix": ") ",
     "delete_cmd_prefix": "rm(",
     "library": "var_list.r",
     "varRefreshCmd": "cat(var_dic_list()) "
    }
   },
   "types_to_exclude": [
    "module",
    "function",
    "builtin_function_or_method",
    "instance",
    "_Feature"
   ],
   "window_display": false
  }
 },
 "nbformat": 4,
 "nbformat_minor": 5
}
